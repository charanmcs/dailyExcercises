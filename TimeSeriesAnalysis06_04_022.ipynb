{
  "nbformat": 4,
  "nbformat_minor": 0,
  "metadata": {
    "colab": {
      "name": "TimeSeriesAnalysis06_04_022.ipynb",
      "provenance": [],
      "collapsed_sections": []
    },
    "kernelspec": {
      "name": "python3",
      "display_name": "Python 3"
    }
  },
  "cells": [
    {
      "cell_type": "code",
      "metadata": {
        "id": "K4aIct04lCFU",
        "colab": {
          "base_uri": "https://localhost:8080/"
        },
        "outputId": "7e1c1386-2a98-49ca-96e6-64054d9d4d3e"
      },
      "source": [
        "!wget https://github.com/a-forty-two/diamler_17_jan/blob/main/Sample-Superstore.xls?raw=true\n",
        "!cp Sample-Superstore.xls?raw=true superstore.xls\n",
        "!ls"
      ],
      "execution_count": 1,
      "outputs": [
        {
          "output_type": "stream",
          "name": "stdout",
          "text": [
            "--2022-04-07 11:58:37--  https://github.com/a-forty-two/diamler_17_jan/blob/main/Sample-Superstore.xls?raw=true\n",
            "Resolving github.com (github.com)... 192.30.255.113\n",
            "Connecting to github.com (github.com)|192.30.255.113|:443... connected.\n",
            "HTTP request sent, awaiting response... 302 Found\n",
            "Location: https://github.com/a-forty-two/diamler_17_jan/raw/main/Sample-Superstore.xls [following]\n",
            "--2022-04-07 11:58:37--  https://github.com/a-forty-two/diamler_17_jan/raw/main/Sample-Superstore.xls\n",
            "Reusing existing connection to github.com:443.\n",
            "HTTP request sent, awaiting response... 302 Found\n",
            "Location: https://raw.githubusercontent.com/a-forty-two/diamler_17_jan/main/Sample-Superstore.xls [following]\n",
            "--2022-04-07 11:58:37--  https://raw.githubusercontent.com/a-forty-two/diamler_17_jan/main/Sample-Superstore.xls\n",
            "Resolving raw.githubusercontent.com (raw.githubusercontent.com)... 185.199.108.133, 185.199.109.133, 185.199.110.133, ...\n",
            "Connecting to raw.githubusercontent.com (raw.githubusercontent.com)|185.199.108.133|:443... connected.\n",
            "HTTP request sent, awaiting response... 200 OK\n",
            "Length: 3364352 (3.2M) [application/octet-stream]\n",
            "Saving to: ‘Sample-Superstore.xls?raw=true’\n",
            "\n",
            "Sample-Superstore.x 100%[===================>]   3.21M  --.-KB/s    in 0.05s   \n",
            "\n",
            "2022-04-07 11:58:38 (62.5 MB/s) - ‘Sample-Superstore.xls?raw=true’ saved [3364352/3364352]\n",
            "\n",
            " sample_data  'Sample-Superstore.xls?raw=true'\t superstore.xls\n"
          ]
        }
      ]
    },
    {
      "cell_type": "code",
      "source": [
        "!pip install pandas==1.2.0\n",
        "!pip install --upgrade xlrd"
      ],
      "metadata": {
        "colab": {
          "base_uri": "https://localhost:8080/"
        },
        "id": "Ooy0mrxJ5GAO",
        "outputId": "0058679a-a656-48fa-bf4a-bfb83ca748da"
      },
      "execution_count": 2,
      "outputs": [
        {
          "output_type": "stream",
          "name": "stdout",
          "text": [
            "Collecting pandas==1.2.0\n",
            "  Downloading pandas-1.2.0-cp37-cp37m-manylinux1_x86_64.whl (9.9 MB)\n",
            "\u001b[K     |████████████████████████████████| 9.9 MB 10.5 MB/s \n",
            "\u001b[?25hRequirement already satisfied: numpy>=1.16.5 in /usr/local/lib/python3.7/dist-packages (from pandas==1.2.0) (1.21.5)\n",
            "Requirement already satisfied: pytz>=2017.3 in /usr/local/lib/python3.7/dist-packages (from pandas==1.2.0) (2018.9)\n",
            "Requirement already satisfied: python-dateutil>=2.7.3 in /usr/local/lib/python3.7/dist-packages (from pandas==1.2.0) (2.8.2)\n",
            "Requirement already satisfied: six>=1.5 in /usr/local/lib/python3.7/dist-packages (from python-dateutil>=2.7.3->pandas==1.2.0) (1.15.0)\n",
            "Installing collected packages: pandas\n",
            "  Attempting uninstall: pandas\n",
            "    Found existing installation: pandas 1.3.5\n",
            "    Uninstalling pandas-1.3.5:\n",
            "      Successfully uninstalled pandas-1.3.5\n",
            "Successfully installed pandas-1.2.0\n",
            "Requirement already satisfied: xlrd in /usr/local/lib/python3.7/dist-packages (1.1.0)\n",
            "Collecting xlrd\n",
            "  Downloading xlrd-2.0.1-py2.py3-none-any.whl (96 kB)\n",
            "\u001b[K     |████████████████████████████████| 96 kB 3.9 MB/s \n",
            "\u001b[?25hInstalling collected packages: xlrd\n",
            "  Attempting uninstall: xlrd\n",
            "    Found existing installation: xlrd 1.1.0\n",
            "    Uninstalling xlrd-1.1.0:\n",
            "      Successfully uninstalled xlrd-1.1.0\n",
            "Successfully installed xlrd-2.0.1\n"
          ]
        }
      ]
    },
    {
      "cell_type": "code",
      "metadata": {
        "id": "CGtzNkkWlbD4",
        "outputId": "d5fc2907-194c-44ef-c10a-2142180e2918",
        "colab": {
          "base_uri": "https://localhost:8080/"
        }
      },
      "source": [
        "import pandas as pd\n",
        "df = pd.read_excel('superstore.xls')\n",
        "df.head()\n",
        "df.columns"
      ],
      "execution_count": 3,
      "outputs": [
        {
          "output_type": "execute_result",
          "data": {
            "text/plain": [
              "Index(['Row ID', 'Order ID', 'Order Date', 'Ship Date', 'Ship Mode',\n",
              "       'Customer ID', 'Customer Name', 'Segment', 'Country', 'City', 'State',\n",
              "       'Postal Code', 'Region', 'Product ID', 'Category', 'Sub-Category',\n",
              "       'Product Name', 'Sales', 'Quantity', 'Discount', 'Profit'],\n",
              "      dtype='object')"
            ]
          },
          "metadata": {},
          "execution_count": 3
        }
      ]
    },
    {
      "cell_type": "code",
      "metadata": {
        "id": "Pwr0PxgdmSab",
        "colab": {
          "base_uri": "https://localhost:8080/"
        },
        "outputId": "64bd2c80-88ff-45c5-8ec8-eaa06e1a5001"
      },
      "source": [
        "import warnings\n",
        "import itertools\n",
        "import numpy as np\n",
        "import statsmodels.api as sm\n",
        "import matplotlib.pyplot as plt\n",
        "import matplotlib\n",
        "%matplotlib inline\n",
        "warnings.filterwarnings(\"ignore\")"
      ],
      "execution_count": 4,
      "outputs": [
        {
          "output_type": "stream",
          "name": "stderr",
          "text": [
            "/usr/local/lib/python3.7/dist-packages/statsmodels/tools/_testing.py:19: FutureWarning: pandas.util.testing is deprecated. Use the functions in the public API at pandas.testing instead.\n",
            "  import pandas.util.testing as tm\n"
          ]
        }
      ]
    },
    {
      "cell_type": "code",
      "metadata": {
        "id": "5l6xcpsuLmSv",
        "outputId": "41e14069-e0f1-43c6-8a4e-5cc28f06ae75",
        "colab": {
          "base_uri": "https://localhost:8080/",
          "height": 344
        }
      },
      "source": [
        "df.head(2)\n",
        "# WHENEVER you're into TS analysis -> TIMESTAMPS \n",
        "# what if you don't have time stamps but data is arranged in either time-ascending or descending order,\n",
        "# you can always take a reference timeline -> 1990-2000 \n",
        "# TIMESTAMP should work like an INDEX and not input dataset \n",
        "# TSA -> Univariate and multivariate \n",
        "# ONE FEATURE is going to fluctuate w.r.t. TIME \n",
        "\n",
        "# TIMESTAMPS -> Order Date and Ship Date \n",
        "# Identify all indexes or seemingly indexes and REMOVE THEM -> NEW DF -> don't mutate the old DF\n",
        "# Identify ALL categorical DATA -> in TSA , categories help us FILTER the data \n",
        "# If there categories like COuntry -> Then i could make individual TSA predictions for each country\n",
        "\n"
      ],
      "execution_count": 5,
      "outputs": [
        {
          "output_type": "execute_result",
          "data": {
            "text/plain": [
              "   Row ID        Order ID Order Date  Ship Date     Ship Mode Customer ID  \\\n",
              "0       1  CA-2016-152156 2016-11-08 2016-11-11  Second Class    CG-12520   \n",
              "1       2  CA-2016-152156 2016-11-08 2016-11-11  Second Class    CG-12520   \n",
              "\n",
              "  Customer Name   Segment        Country       City  ... Postal Code  Region  \\\n",
              "0   Claire Gute  Consumer  United States  Henderson  ...       42420   South   \n",
              "1   Claire Gute  Consumer  United States  Henderson  ...       42420   South   \n",
              "\n",
              "        Product ID   Category Sub-Category  \\\n",
              "0  FUR-BO-10001798  Furniture    Bookcases   \n",
              "1  FUR-CH-10000454  Furniture       Chairs   \n",
              "\n",
              "                                        Product Name   Sales  Quantity  \\\n",
              "0                  Bush Somerset Collection Bookcase  261.96         2   \n",
              "1  Hon Deluxe Fabric Upholstered Stacking Chairs,...  731.94         3   \n",
              "\n",
              "   Discount    Profit  \n",
              "0       0.0   41.9136  \n",
              "1       0.0  219.5820  \n",
              "\n",
              "[2 rows x 21 columns]"
            ],
            "text/html": [
              "\n",
              "  <div id=\"df-2ce52e72-05eb-4b98-96c2-56a5979510bf\">\n",
              "    <div class=\"colab-df-container\">\n",
              "      <div>\n",
              "<style scoped>\n",
              "    .dataframe tbody tr th:only-of-type {\n",
              "        vertical-align: middle;\n",
              "    }\n",
              "\n",
              "    .dataframe tbody tr th {\n",
              "        vertical-align: top;\n",
              "    }\n",
              "\n",
              "    .dataframe thead th {\n",
              "        text-align: right;\n",
              "    }\n",
              "</style>\n",
              "<table border=\"1\" class=\"dataframe\">\n",
              "  <thead>\n",
              "    <tr style=\"text-align: right;\">\n",
              "      <th></th>\n",
              "      <th>Row ID</th>\n",
              "      <th>Order ID</th>\n",
              "      <th>Order Date</th>\n",
              "      <th>Ship Date</th>\n",
              "      <th>Ship Mode</th>\n",
              "      <th>Customer ID</th>\n",
              "      <th>Customer Name</th>\n",
              "      <th>Segment</th>\n",
              "      <th>Country</th>\n",
              "      <th>City</th>\n",
              "      <th>...</th>\n",
              "      <th>Postal Code</th>\n",
              "      <th>Region</th>\n",
              "      <th>Product ID</th>\n",
              "      <th>Category</th>\n",
              "      <th>Sub-Category</th>\n",
              "      <th>Product Name</th>\n",
              "      <th>Sales</th>\n",
              "      <th>Quantity</th>\n",
              "      <th>Discount</th>\n",
              "      <th>Profit</th>\n",
              "    </tr>\n",
              "  </thead>\n",
              "  <tbody>\n",
              "    <tr>\n",
              "      <th>0</th>\n",
              "      <td>1</td>\n",
              "      <td>CA-2016-152156</td>\n",
              "      <td>2016-11-08</td>\n",
              "      <td>2016-11-11</td>\n",
              "      <td>Second Class</td>\n",
              "      <td>CG-12520</td>\n",
              "      <td>Claire Gute</td>\n",
              "      <td>Consumer</td>\n",
              "      <td>United States</td>\n",
              "      <td>Henderson</td>\n",
              "      <td>...</td>\n",
              "      <td>42420</td>\n",
              "      <td>South</td>\n",
              "      <td>FUR-BO-10001798</td>\n",
              "      <td>Furniture</td>\n",
              "      <td>Bookcases</td>\n",
              "      <td>Bush Somerset Collection Bookcase</td>\n",
              "      <td>261.96</td>\n",
              "      <td>2</td>\n",
              "      <td>0.0</td>\n",
              "      <td>41.9136</td>\n",
              "    </tr>\n",
              "    <tr>\n",
              "      <th>1</th>\n",
              "      <td>2</td>\n",
              "      <td>CA-2016-152156</td>\n",
              "      <td>2016-11-08</td>\n",
              "      <td>2016-11-11</td>\n",
              "      <td>Second Class</td>\n",
              "      <td>CG-12520</td>\n",
              "      <td>Claire Gute</td>\n",
              "      <td>Consumer</td>\n",
              "      <td>United States</td>\n",
              "      <td>Henderson</td>\n",
              "      <td>...</td>\n",
              "      <td>42420</td>\n",
              "      <td>South</td>\n",
              "      <td>FUR-CH-10000454</td>\n",
              "      <td>Furniture</td>\n",
              "      <td>Chairs</td>\n",
              "      <td>Hon Deluxe Fabric Upholstered Stacking Chairs,...</td>\n",
              "      <td>731.94</td>\n",
              "      <td>3</td>\n",
              "      <td>0.0</td>\n",
              "      <td>219.5820</td>\n",
              "    </tr>\n",
              "  </tbody>\n",
              "</table>\n",
              "<p>2 rows × 21 columns</p>\n",
              "</div>\n",
              "      <button class=\"colab-df-convert\" onclick=\"convertToInteractive('df-2ce52e72-05eb-4b98-96c2-56a5979510bf')\"\n",
              "              title=\"Convert this dataframe to an interactive table.\"\n",
              "              style=\"display:none;\">\n",
              "        \n",
              "  <svg xmlns=\"http://www.w3.org/2000/svg\" height=\"24px\"viewBox=\"0 0 24 24\"\n",
              "       width=\"24px\">\n",
              "    <path d=\"M0 0h24v24H0V0z\" fill=\"none\"/>\n",
              "    <path d=\"M18.56 5.44l.94 2.06.94-2.06 2.06-.94-2.06-.94-.94-2.06-.94 2.06-2.06.94zm-11 1L8.5 8.5l.94-2.06 2.06-.94-2.06-.94L8.5 2.5l-.94 2.06-2.06.94zm10 10l.94 2.06.94-2.06 2.06-.94-2.06-.94-.94-2.06-.94 2.06-2.06.94z\"/><path d=\"M17.41 7.96l-1.37-1.37c-.4-.4-.92-.59-1.43-.59-.52 0-1.04.2-1.43.59L10.3 9.45l-7.72 7.72c-.78.78-.78 2.05 0 2.83L4 21.41c.39.39.9.59 1.41.59.51 0 1.02-.2 1.41-.59l7.78-7.78 2.81-2.81c.8-.78.8-2.07 0-2.86zM5.41 20L4 18.59l7.72-7.72 1.47 1.35L5.41 20z\"/>\n",
              "  </svg>\n",
              "      </button>\n",
              "      \n",
              "  <style>\n",
              "    .colab-df-container {\n",
              "      display:flex;\n",
              "      flex-wrap:wrap;\n",
              "      gap: 12px;\n",
              "    }\n",
              "\n",
              "    .colab-df-convert {\n",
              "      background-color: #E8F0FE;\n",
              "      border: none;\n",
              "      border-radius: 50%;\n",
              "      cursor: pointer;\n",
              "      display: none;\n",
              "      fill: #1967D2;\n",
              "      height: 32px;\n",
              "      padding: 0 0 0 0;\n",
              "      width: 32px;\n",
              "    }\n",
              "\n",
              "    .colab-df-convert:hover {\n",
              "      background-color: #E2EBFA;\n",
              "      box-shadow: 0px 1px 2px rgba(60, 64, 67, 0.3), 0px 1px 3px 1px rgba(60, 64, 67, 0.15);\n",
              "      fill: #174EA6;\n",
              "    }\n",
              "\n",
              "    [theme=dark] .colab-df-convert {\n",
              "      background-color: #3B4455;\n",
              "      fill: #D2E3FC;\n",
              "    }\n",
              "\n",
              "    [theme=dark] .colab-df-convert:hover {\n",
              "      background-color: #434B5C;\n",
              "      box-shadow: 0px 1px 3px 1px rgba(0, 0, 0, 0.15);\n",
              "      filter: drop-shadow(0px 1px 2px rgba(0, 0, 0, 0.3));\n",
              "      fill: #FFFFFF;\n",
              "    }\n",
              "  </style>\n",
              "\n",
              "      <script>\n",
              "        const buttonEl =\n",
              "          document.querySelector('#df-2ce52e72-05eb-4b98-96c2-56a5979510bf button.colab-df-convert');\n",
              "        buttonEl.style.display =\n",
              "          google.colab.kernel.accessAllowed ? 'block' : 'none';\n",
              "\n",
              "        async function convertToInteractive(key) {\n",
              "          const element = document.querySelector('#df-2ce52e72-05eb-4b98-96c2-56a5979510bf');\n",
              "          const dataTable =\n",
              "            await google.colab.kernel.invokeFunction('convertToInteractive',\n",
              "                                                     [key], {});\n",
              "          if (!dataTable) return;\n",
              "\n",
              "          const docLinkHtml = 'Like what you see? Visit the ' +\n",
              "            '<a target=\"_blank\" href=https://colab.research.google.com/notebooks/data_table.ipynb>data table notebook</a>'\n",
              "            + ' to learn more about interactive tables.';\n",
              "          element.innerHTML = '';\n",
              "          dataTable['output_type'] = 'display_data';\n",
              "          await google.colab.output.renderOutput(dataTable, element);\n",
              "          const docLink = document.createElement('div');\n",
              "          docLink.innerHTML = docLinkHtml;\n",
              "          element.appendChild(docLink);\n",
              "        }\n",
              "      </script>\n",
              "    </div>\n",
              "  </div>\n",
              "  "
            ]
          },
          "metadata": {},
          "execution_count": 5
        }
      ]
    },
    {
      "cell_type": "code",
      "metadata": {
        "id": "MndIcH6nMpk-",
        "outputId": "935a3fed-fad1-4fa2-c9ef-ed3afedeb23b",
        "colab": {
          "base_uri": "https://localhost:8080/"
        }
      },
      "source": [
        "# Let's find out all important categorical data or DISCRETE values \n",
        "# importance-> usability for filtering \n",
        "len(df)\n",
        "df.Country.value_counts() # Because all values belong to only 1 category!!\n",
        "df.City.value_counts() # Because TOO MANY values for CITY! here, Analysis is possible \n",
        "# for some cities like NYC, LA, Phil because they've enough data points representing them \n"
      ],
      "execution_count": 6,
      "outputs": [
        {
          "output_type": "execute_result",
          "data": {
            "text/plain": [
              "New York City    915\n",
              "Los Angeles      747\n",
              "Philadelphia     537\n",
              "San Francisco    510\n",
              "Seattle          428\n",
              "                ... \n",
              "Santa Maria        1\n",
              "Melbourne          1\n",
              "Baytown            1\n",
              "Orland Park        1\n",
              "Missoula           1\n",
              "Name: City, Length: 531, dtype: int64"
            ]
          },
          "metadata": {},
          "execution_count": 6
        }
      ]
    },
    {
      "cell_type": "code",
      "metadata": {
        "id": "59C0CP1WO6MO",
        "outputId": "bfd6415b-61cc-4d64-825c-f989fe541638",
        "colab": {
          "base_uri": "https://localhost:8080/"
        }
      },
      "source": [
        "colNames = df.columns \n",
        "for i, feature in enumerate(colNames):\n",
        "  print(colNames[i] + \" \" + str(len(df[feature].value_counts())))\n",
        "\n",
        "# FROM OUTPUT below, we can conclude that best variables for categorical filtering were\n",
        "# 1) Region, 2) Categories, comparitively weaker but still valid-> SUB CATEGORY"
      ],
      "execution_count": 7,
      "outputs": [
        {
          "output_type": "stream",
          "name": "stdout",
          "text": [
            "Row ID 9994\n",
            "Order ID 5009\n",
            "Order Date 1237\n",
            "Ship Date 1334\n",
            "Ship Mode 4\n",
            "Customer ID 793\n",
            "Customer Name 793\n",
            "Segment 3\n",
            "Country 1\n",
            "City 531\n",
            "State 49\n",
            "Postal Code 631\n",
            "Region 4\n",
            "Product ID 1862\n",
            "Category 3\n",
            "Sub-Category 17\n",
            "Product Name 1850\n",
            "Sales 6144\n",
            "Quantity 14\n",
            "Discount 12\n",
            "Profit 7545\n"
          ]
        }
      ]
    },
    {
      "cell_type": "code",
      "metadata": {
        "id": "urCb7xKIP4EI",
        "outputId": "ad0b41a1-12b3-460d-b441-c28226b38150",
        "colab": {
          "base_uri": "https://localhost:8080/"
        }
      },
      "source": [
        "df.Category.value_counts()"
      ],
      "execution_count": 8,
      "outputs": [
        {
          "output_type": "execute_result",
          "data": {
            "text/plain": [
              "Office Supplies    6026\n",
              "Furniture          2121\n",
              "Technology         1847\n",
              "Name: Category, dtype: int64"
            ]
          },
          "metadata": {},
          "execution_count": 8
        }
      ]
    },
    {
      "cell_type": "code",
      "metadata": {
        "id": "_sscV5kAQ_z7",
        "outputId": "d8749b87-137b-4fe8-ea09-9e8222291065",
        "colab": {
          "base_uri": "https://localhost:8080/"
        }
      },
      "source": [
        "data = df.loc[df['Category']=='Furniture']  # LOC-> :,:\n",
        "#data.head()\n",
        "print(data['Order Date'].min())\n",
        "print(data['Order Date'].max())"
      ],
      "execution_count": 9,
      "outputs": [
        {
          "output_type": "stream",
          "name": "stdout",
          "text": [
            "2014-01-06 00:00:00\n",
            "2017-12-30 00:00:00\n"
          ]
        }
      ]
    },
    {
      "cell_type": "code",
      "metadata": {
        "id": "ip4TBs6eRU_d"
      },
      "source": [
        "# WHAT IS THE FEATURE that I want to predict against TIME? \n",
        "# y= f(x) -> Y is a CONTINUOUS NUMBER that will change as per time \n",
        "# 2 kind of numbers -> CONTINUOUS and DISCRETE \n",
        "# DISCRETE are categorical features, CONTINUOUS -> numerical real values\n",
        "# COMPLEX numbers -> Real + imaginary -> break down into 2 separate features and solve separately\n",
        "\n",
        "\n"
      ],
      "execution_count": 10,
      "outputs": []
    },
    {
      "cell_type": "code",
      "metadata": {
        "id": "kEcVi8WwSLFS",
        "outputId": "12c98aea-1e18-41d2-b385-c28b055bcb7f",
        "colab": {
          "base_uri": "https://localhost:8080/"
        }
      },
      "source": [
        "df['Ship Mode'].value_counts()\n",
        "# If I was a LOGISTICS planner or Biz Analyst, this is the categorical column!\n"
      ],
      "execution_count": 11,
      "outputs": [
        {
          "output_type": "execute_result",
          "data": {
            "text/plain": [
              "Standard Class    5968\n",
              "Second Class      1945\n",
              "First Class       1538\n",
              "Same Day           543\n",
              "Name: Ship Mode, dtype: int64"
            ]
          },
          "metadata": {},
          "execution_count": 11
        }
      ]
    },
    {
      "cell_type": "code",
      "metadata": {
        "id": "MSWrvL8wW4x6",
        "outputId": "7993c958-c567-4127-fc42-b466eb8005e3",
        "colab": {
          "base_uri": "https://localhost:8080/"
        }
      },
      "source": [
        "# Best continuous variables to predict AGAINST time \n",
        "# Sales and Profit (Sales Biz Analyst)\n",
        "# Quantity (Logistic Biz Analyst) and Discount (too many 0s)\n",
        "\n",
        "# For demo, let's proceed with predicting SALES\n",
        "\n",
        "len(data)\n",
        "# here we have 4 years of data represented by 2121 rows of dataset\n",
        "# 365 X 4 -> 1460 unique days! \n",
        "# At least some dates have more than 1 order\n",
        "# maybe some dates may not orders at all! \n",
        "\n",
        "\n",
        "# IN TSA we don't expect a GAUSSIAN distribution specially when variables are \n",
        "# profit, loss, sales etc. which either increase or decrease! they don't go bell curve\n",
        "\n",
        "# in prev cases of classification, we would have preferred uniform or gaussian or normal distribution\n"
      ],
      "execution_count": 12,
      "outputs": [
        {
          "output_type": "execute_result",
          "data": {
            "text/plain": [
              "2121"
            ]
          },
          "metadata": {},
          "execution_count": 12
        }
      ]
    },
    {
      "cell_type": "code",
      "metadata": {
        "id": "9zBiCwgvZYBj",
        "outputId": "3d2df5a4-69af-4cb6-80ab-0ba722227145",
        "colab": {
          "base_uri": "https://localhost:8080/",
          "height": 206
        }
      },
      "source": [
        "# ORDER BY and GROUP BY were our go to methods in SQL!\n",
        "data_grouped = data.groupby('Order Date')\n",
        "data_grouped = data_grouped['Sales'].sum().reset_index()\n",
        "data_grouped.tail()\n",
        "# OUR ASSUMPTIONS WERE CORRECT! \n",
        "# At least some dates have more than 1 order\n",
        "# maybe some dates may not orders at all! "
      ],
      "execution_count": 13,
      "outputs": [
        {
          "output_type": "execute_result",
          "data": {
            "text/plain": [
              "    Order Date      Sales\n",
              "884 2017-12-24  1393.4940\n",
              "885 2017-12-25   832.4540\n",
              "886 2017-12-28   551.2568\n",
              "887 2017-12-29  2330.7180\n",
              "888 2017-12-30   323.1360"
            ],
            "text/html": [
              "\n",
              "  <div id=\"df-8cc23533-2110-428a-a070-e50c32427cb2\">\n",
              "    <div class=\"colab-df-container\">\n",
              "      <div>\n",
              "<style scoped>\n",
              "    .dataframe tbody tr th:only-of-type {\n",
              "        vertical-align: middle;\n",
              "    }\n",
              "\n",
              "    .dataframe tbody tr th {\n",
              "        vertical-align: top;\n",
              "    }\n",
              "\n",
              "    .dataframe thead th {\n",
              "        text-align: right;\n",
              "    }\n",
              "</style>\n",
              "<table border=\"1\" class=\"dataframe\">\n",
              "  <thead>\n",
              "    <tr style=\"text-align: right;\">\n",
              "      <th></th>\n",
              "      <th>Order Date</th>\n",
              "      <th>Sales</th>\n",
              "    </tr>\n",
              "  </thead>\n",
              "  <tbody>\n",
              "    <tr>\n",
              "      <th>884</th>\n",
              "      <td>2017-12-24</td>\n",
              "      <td>1393.4940</td>\n",
              "    </tr>\n",
              "    <tr>\n",
              "      <th>885</th>\n",
              "      <td>2017-12-25</td>\n",
              "      <td>832.4540</td>\n",
              "    </tr>\n",
              "    <tr>\n",
              "      <th>886</th>\n",
              "      <td>2017-12-28</td>\n",
              "      <td>551.2568</td>\n",
              "    </tr>\n",
              "    <tr>\n",
              "      <th>887</th>\n",
              "      <td>2017-12-29</td>\n",
              "      <td>2330.7180</td>\n",
              "    </tr>\n",
              "    <tr>\n",
              "      <th>888</th>\n",
              "      <td>2017-12-30</td>\n",
              "      <td>323.1360</td>\n",
              "    </tr>\n",
              "  </tbody>\n",
              "</table>\n",
              "</div>\n",
              "      <button class=\"colab-df-convert\" onclick=\"convertToInteractive('df-8cc23533-2110-428a-a070-e50c32427cb2')\"\n",
              "              title=\"Convert this dataframe to an interactive table.\"\n",
              "              style=\"display:none;\">\n",
              "        \n",
              "  <svg xmlns=\"http://www.w3.org/2000/svg\" height=\"24px\"viewBox=\"0 0 24 24\"\n",
              "       width=\"24px\">\n",
              "    <path d=\"M0 0h24v24H0V0z\" fill=\"none\"/>\n",
              "    <path d=\"M18.56 5.44l.94 2.06.94-2.06 2.06-.94-2.06-.94-.94-2.06-.94 2.06-2.06.94zm-11 1L8.5 8.5l.94-2.06 2.06-.94-2.06-.94L8.5 2.5l-.94 2.06-2.06.94zm10 10l.94 2.06.94-2.06 2.06-.94-2.06-.94-.94-2.06-.94 2.06-2.06.94z\"/><path d=\"M17.41 7.96l-1.37-1.37c-.4-.4-.92-.59-1.43-.59-.52 0-1.04.2-1.43.59L10.3 9.45l-7.72 7.72c-.78.78-.78 2.05 0 2.83L4 21.41c.39.39.9.59 1.41.59.51 0 1.02-.2 1.41-.59l7.78-7.78 2.81-2.81c.8-.78.8-2.07 0-2.86zM5.41 20L4 18.59l7.72-7.72 1.47 1.35L5.41 20z\"/>\n",
              "  </svg>\n",
              "      </button>\n",
              "      \n",
              "  <style>\n",
              "    .colab-df-container {\n",
              "      display:flex;\n",
              "      flex-wrap:wrap;\n",
              "      gap: 12px;\n",
              "    }\n",
              "\n",
              "    .colab-df-convert {\n",
              "      background-color: #E8F0FE;\n",
              "      border: none;\n",
              "      border-radius: 50%;\n",
              "      cursor: pointer;\n",
              "      display: none;\n",
              "      fill: #1967D2;\n",
              "      height: 32px;\n",
              "      padding: 0 0 0 0;\n",
              "      width: 32px;\n",
              "    }\n",
              "\n",
              "    .colab-df-convert:hover {\n",
              "      background-color: #E2EBFA;\n",
              "      box-shadow: 0px 1px 2px rgba(60, 64, 67, 0.3), 0px 1px 3px 1px rgba(60, 64, 67, 0.15);\n",
              "      fill: #174EA6;\n",
              "    }\n",
              "\n",
              "    [theme=dark] .colab-df-convert {\n",
              "      background-color: #3B4455;\n",
              "      fill: #D2E3FC;\n",
              "    }\n",
              "\n",
              "    [theme=dark] .colab-df-convert:hover {\n",
              "      background-color: #434B5C;\n",
              "      box-shadow: 0px 1px 3px 1px rgba(0, 0, 0, 0.15);\n",
              "      filter: drop-shadow(0px 1px 2px rgba(0, 0, 0, 0.3));\n",
              "      fill: #FFFFFF;\n",
              "    }\n",
              "  </style>\n",
              "\n",
              "      <script>\n",
              "        const buttonEl =\n",
              "          document.querySelector('#df-8cc23533-2110-428a-a070-e50c32427cb2 button.colab-df-convert');\n",
              "        buttonEl.style.display =\n",
              "          google.colab.kernel.accessAllowed ? 'block' : 'none';\n",
              "\n",
              "        async function convertToInteractive(key) {\n",
              "          const element = document.querySelector('#df-8cc23533-2110-428a-a070-e50c32427cb2');\n",
              "          const dataTable =\n",
              "            await google.colab.kernel.invokeFunction('convertToInteractive',\n",
              "                                                     [key], {});\n",
              "          if (!dataTable) return;\n",
              "\n",
              "          const docLinkHtml = 'Like what you see? Visit the ' +\n",
              "            '<a target=\"_blank\" href=https://colab.research.google.com/notebooks/data_table.ipynb>data table notebook</a>'\n",
              "            + ' to learn more about interactive tables.';\n",
              "          element.innerHTML = '';\n",
              "          dataTable['output_type'] = 'display_data';\n",
              "          await google.colab.output.renderOutput(dataTable, element);\n",
              "          const docLink = document.createElement('div');\n",
              "          docLink.innerHTML = docLinkHtml;\n",
              "          element.appendChild(docLink);\n",
              "        }\n",
              "      </script>\n",
              "    </div>\n",
              "  </div>\n",
              "  "
            ]
          },
          "metadata": {},
          "execution_count": 13
        }
      ]
    },
    {
      "cell_type": "code",
      "metadata": {
        "id": "lMf2w6UhaZ5V",
        "outputId": "84fe1f54-238e-49c6-a32f-4e50df195c60",
        "colab": {
          "base_uri": "https://localhost:8080/"
        }
      },
      "source": [
        "# HERE PREDICTING DAY by DAY will be a mistake -> real data for this granularity does not exist\n",
        "# Weekly or monthly prediction \n",
        "# Temp this week will be around 22\n",
        "# M-> 22, T-> 21, W->33, .... Sun-> 21 \n",
        "# Between the two, the weekly prediction have lesser chances of going wrong than daily prediction\n",
        "# Monthly will be better than weekly\n",
        "# Quarter will be better than monthly , annual better than quarterly \n",
        "data_grouped.set_index('Order Date', inplace=True)\n",
        "# https://pandas.pydata.org/pandas-docs/stable/reference/api/pandas.DataFrame.resample.html\n",
        "y = data_grouped['Sales'].resample('MS').mean() # average sales of month will be a BETTER prediction than TOTAL sales \n",
        "y.head()\n"
      ],
      "execution_count": 14,
      "outputs": [
        {
          "output_type": "execute_result",
          "data": {
            "text/plain": [
              "Order Date\n",
              "2014-01-01    480.194231\n",
              "2014-02-01    367.931600\n",
              "2014-03-01    857.291529\n",
              "2014-04-01    567.488357\n",
              "2014-05-01    432.049187\n",
              "Freq: MS, Name: Sales, dtype: float64"
            ]
          },
          "metadata": {},
          "execution_count": 14
        }
      ]
    },
    {
      "cell_type": "code",
      "metadata": {
        "id": "vP4zxthBT-Hz",
        "outputId": "9d27d0f2-6ef8-44ea-d065-2915e2acec39",
        "colab": {
          "base_uri": "https://localhost:8080/"
        }
      },
      "source": [
        "\n",
        "# VERY VERY IMPORTANT \n",
        "# Discrete and Continuous -> book -> Ralph L Grimaldi's discrete and combinatorial maths\n",
        "\n",
        " # 48 was expected for 4 years- Proper representation for all discrete timestamps\n",
        "# Time Series, Singals and Systems, Sound -> sampling \n",
        "y.tail()\n",
        "y['2014':'2015']\n",
        "# [red, blue, red, blue, ?]\n",
        "\n"
      ],
      "execution_count": 15,
      "outputs": [
        {
          "output_type": "execute_result",
          "data": {
            "text/plain": [
              "Order Date\n",
              "2014-01-01     480.194231\n",
              "2014-02-01     367.931600\n",
              "2014-03-01     857.291529\n",
              "2014-04-01     567.488357\n",
              "2014-05-01     432.049187\n",
              "2014-06-01     695.059242\n",
              "2014-07-01     601.169500\n",
              "2014-08-01     457.521656\n",
              "2014-09-01     992.353367\n",
              "2014-10-01     769.015437\n",
              "2014-11-01     980.221486\n",
              "2014-12-01    1532.298325\n",
              "2015-01-01     978.328467\n",
              "2015-02-01     522.395667\n",
              "2015-03-01     781.236437\n",
              "2015-04-01     805.822962\n",
              "2015-05-01     624.996700\n",
              "2015-06-01     428.565500\n",
              "2015-07-01     719.706316\n",
              "2015-08-01     602.412012\n",
              "2015-09-01    1382.790684\n",
              "2015-10-01     632.980184\n",
              "2015-11-01    1286.701354\n",
              "2015-12-01    1049.355418\n",
              "Freq: MS, Name: Sales, dtype: float64"
            ]
          },
          "metadata": {},
          "execution_count": 15
        }
      ]
    },
    {
      "cell_type": "code",
      "metadata": {
        "id": "a8DGKMYmcUPH",
        "outputId": "72dfc7d4-5ff1-4151-884e-58cf46d0dd1c",
        "colab": {
          "base_uri": "https://localhost:8080/",
          "height": 345
        }
      },
      "source": [
        "# Independence Tests -> Profit was dependent on DISCOUNT and SALES \n",
        "# Univariate variable for TSA -> make sure that it's an independent variable\n",
        "# We preferred SALES over PROFIT \n",
        "# For BULK data -> always do an independence test \n",
        "# Profit = y = f(Sales, Discount) <- Profit was dependent \n",
        "# Sales -> y = f(order_items ) \n",
        "plt.figure()\n",
        "y.plot(figsize=(15,5))\n",
        "plt.show()\n"
      ],
      "execution_count": 16,
      "outputs": [
        {
          "output_type": "display_data",
          "data": {
            "text/plain": [
              "<Figure size 1080x360 with 1 Axes>"
            ],
            "image/png": "[encoded data removed]"
          },
          "metadata": {
            "needs_background": "light"
          }
        }
      ]
    },
    {
      "cell_type": "code",
      "metadata": {
        "id": "InEjzFkhlCKV",
        "outputId": "320236b9-81e0-4215-cb28-15f6d6d096d6",
        "colab": {
          "base_uri": "https://localhost:8080/",
          "height": 299
        }
      },
      "source": [
        "# Eigenvectors and EigenValues -> \n",
        "# Vectors on which any linear transformation is applied -> and doesn't change its direction\n",
        "# SUCH a vector is called Eigenvector, and its value is Eigenvalue \n",
        "# https://www.mathsisfun.com/algebra/eigenvalue.html \n",
        "\n",
        "# OLD Algo for TS: https://orangematter.solarwinds.com/2019/12/15/holt-winters-forecasting-simplified/\n",
        "# SEASONS could impact your data \n",
        "# EXTERNAL factors -> Marketing or promotion or discounts that could manipulate your predictions\n",
        "\n",
        "# SARIMAX -> SEASONAL ARIMA EXTREME \n",
        "# SEASONS -> PERIODS or PATTERNS that repeat w.r.t. TIME \n",
        "# TREND -> whether the overall data was increasing or decreasing (slope, dy/dx )\n",
        "# RESIDUE or NOISE -> Whatever is left \n",
        "# INSTEAD of making prediction on original data \n",
        "# We decompose the GRAPH into Seasons, TRENDS, RESIDUE \n",
        "# each of them is predicted separately, and then composed to get final prediction \n",
        "# AR I MA -> Auto-Regression, Integrated seasons, Moving Averages \n",
        "# we will apply all 3 algorithms to SEASONS (season present or season absent), trend, residue\n",
        "# \n",
        "# MOVING AVERAGES\n",
        "#time windows keep on shifting , so that history has slowly LESSER impact on future\n",
        "decomposition = sm.tsa.seasonal_decompose(y, model='additive')\n",
        "# https://www.statsmodels.org/stable/generated/statsmodels.tsa.seasonal.seasonal_decompose.html\n",
        "\n",
        "fig = decomposition.plot()\n",
        "plt.show() \n",
        "# INITIAL 5 points are IGNORED so that trend calculation can be done\n",
        "# TREND needs a history! \n",
        "# 3 and 5 are your magic numbers \n",
        "# THESE ARE WINDOWS of time periods "
      ],
      "execution_count": 17,
      "outputs": [
        {
          "output_type": "display_data",
          "data": {
            "text/plain": [
              "<Figure size 432x288 with 4 Axes>"
            ],
            "image/png": "[encoded data removed]"
          },
          "metadata": {
            "needs_background": "light"
          }
        }
      ]
    },
    {
      "cell_type": "markdown",
      "metadata": {
        "id": "zBxmtVuetYxu"
      },
      "source": [
        "2 algorithms to build these truth tables:\n",
        "\n",
        "1) EXHAUSTIVE -> ALL COMBINATIONS (entire truth table will be created)\n",
        "\n",
        "- SLOWER\n",
        "\n",
        "-> GRID SEARCH \n",
        "\n",
        "2) Not the best, but workable answer (randomly truth will be created)\n",
        "\n",
        "- FASTER \n",
        "\n",
        "-> RANDOM SEARCH \n",
        "\n",
        "https://towardsdatascience.com/random-search-vs-grid-search-for-hyperparameter-optimization-345e1422899d\n",
        "\n",
        "\n",
        "Can be used to find best combination(s) of algo comparison, parameters, hyperparameters, metrics or wherever TOO many are present and we could select a few of them! "
      ]
    },
    {
      "cell_type": "code",
      "metadata": {
        "id": "xPXqJtZd0ymk",
        "outputId": "bcd6dec0-b311-4758-c3ed-a81ad75bb413",
        "colab": {
          "base_uri": "https://localhost:8080/"
        }
      },
      "source": [
        "# in AR I MA -> p,d,q \n",
        "p = d = q = range(0,2) # VALUE generators between [0,1] \n",
        "pdq = list(itertools.product(p,d,q))\n",
        "print(pdq)\n",
        "\n"
      ],
      "execution_count": 18,
      "outputs": [
        {
          "output_type": "stream",
          "name": "stdout",
          "text": [
            "[(0, 0, 0), (0, 0, 1), (0, 1, 0), (0, 1, 1), (1, 0, 0), (1, 0, 1), (1, 1, 0), (1, 1, 1)]\n"
          ]
        }
      ]
    },
    {
      "cell_type": "code",
      "metadata": {
        "id": "xq03q7WD1_6U",
        "outputId": "0c9a6a93-9063-427f-d5c4-585056cb3921",
        "colab": {
          "base_uri": "https://localhost:8080/"
        }
      },
      "source": [
        "# SEASONS -> manipulated manually -> at what point should I expect repeatation?\n",
        "# YEARs -> our repeatation is ANNUAL in nature \n",
        "seasons = 12 # my data granularity is monthly -> so to take 1 year as a SEASON, i have to take\n",
        "# 12 months \n",
        "# LIST COMPREHENSION -> (0,0,0) -> (0,0,0,12)\n",
        "seasonal_pdq = [   (x[0],x[1],x[2], seasons)  for x in pdq] # if x was (0,1,0), -> (0,1,0,12)\n",
        "print('SARIMAX individual MODEL = {} X {}'.format(pdq[5], seasonal_pdq[0]))\n",
        "print('SARIMAX individual MODEL = {} X {}'.format(pdq[5], seasonal_pdq[1]))\n",
        "print('SARIMAX individual MODEL = {} X {}'.format(pdq[5], seasonal_pdq[2]))\n",
        "print('SARIMAX individual MODEL = {} X {}'.format(pdq[5], seasonal_pdq[3]))\n",
        "# here is an INDIVIDUAL MODEL -> WITH and WITHOUT SEASON \n",
        "# ALL SUCH PERMUTATIONS WILL BE EXHAUSTIVELY CREATED!!! \n",
        "# EVERY POSSIBLE COMBINATION HAS BEEN CREATED! \n",
        "# AN SARIMAX -> SEASONAL ARIMA EXHAUSTIVE \n",
        "# ALL possible algos with (seasonal_pdq) and without season (pdq)\n",
        "# "
      ],
      "execution_count": 19,
      "outputs": [
        {
          "output_type": "stream",
          "name": "stdout",
          "text": [
            "SARIMAX individual MODEL = (1, 0, 1) X (0, 0, 0, 12)\n",
            "SARIMAX individual MODEL = (1, 0, 1) X (0, 0, 1, 12)\n",
            "SARIMAX individual MODEL = (1, 0, 1) X (0, 1, 0, 12)\n",
            "SARIMAX individual MODEL = (1, 0, 1) X (0, 1, 1, 12)\n"
          ]
        }
      ]
    },
    {
      "cell_type": "code",
      "metadata": {
        "id": "wG5q2FQ_7Mub",
        "outputId": "e557e983-9efb-462f-ef45-f435601c1fe8",
        "colab": {
          "base_uri": "https://localhost:8080/"
        }
      },
      "source": [
        "# HOW DO WE DECIDE IF ONE MODEL IS BETTER THAN THE OTHER MODEL?\n",
        "# METRICS -> ACCURACY, PRecision, Recall, F1 score, MAE, MSE....\n",
        "# AKAIKE INFORMATION CRITERION (for a while now, this is a PROBABILISTIC formula to calculate\n",
        "# error in liklihood/probability calculation)\n",
        "# AIC = 2k - 2 ln (L) \n",
        "# L -> maximum Liklihood of the model's correctness (same formula as in RMSE,STD \n",
        "# etc, but converted into Probaility of correctness rather than actual number)\n",
        "# k -> no. of samples being considered \n",
        "# for AIC, MINIMUM value is preferred \n",
        "# AIC is LOSS CALCULATION -> hence more loss = bad model\n",
        "# \n",
        "# we will end up with a LOT of IMPOSSIBLE/Imaginary/Complex/Divby0/Errors models\n",
        "# LOT of these models may not even make sense, and will throw exceptions!\n",
        "# EXCEPTION handling is MUST  \n",
        "min_pdq = (999,999,999)\n",
        "min_spdq = (999,999,999,12)\n",
        "min_AIC = 999\n",
        "for param in pdq:\n",
        "  for sparam in seasonal_pdq:\n",
        "    try:\n",
        "      model = sm.tsa.statespace.SARIMAX(y, order=param, seasonal_order=sparam, enforce_stationarity=False)\n",
        "      predictions = model.fit()\n",
        "      print('Model={}X{}. AIC= {}'.format(param, sparam, predictions.aic))\n",
        "      if(predictions.aic < min_AIC):\n",
        "        min_pdq = param\n",
        "        min_spdq = sparam\n",
        "        min_AIC = predictions.aic\n",
        "    except Exception as e:\n",
        "      print(e)\n",
        "      continue\n",
        "\n",
        "print('**** Smallest PDQ,SPDQ is *****')\n",
        "print(min_AIC)\n",
        "print(min_pdq)\n",
        "print(min_spdq)\n",
        "\n",
        "# Somebody said, that because sky is blue, you remain ANGRY\n",
        "# the only way to prove or disprove this\n",
        "# be angry in presence of blue sky, and in its absence\n",
        "# EXHAUSTIVE comparison! angry, no angry -> when sky is BLUE, GREEN, PINK \n",
        "# and at the same time in ABSENCE of sky also -> to calculate if there was any impact of \n",
        "# sky at all! \n"
      ],
      "execution_count": 20,
      "outputs": [
        {
          "output_type": "stream",
          "name": "stdout",
          "text": [
            "Model=(0, 0, 0)X(0, 0, 0, 12). AIC= 769.0817523205916\n",
            "Model=(0, 0, 0)X(0, 0, 1, 12). AIC= 548.1772347587046\n",
            "Model=(0, 0, 0)X(0, 1, 0, 12). AIC= 477.71701309202774\n",
            "maxlag should be < nobs\n",
            "Model=(0, 0, 0)X(1, 0, 0, 12). AIC= 497.2314433418337\n",
            "Model=(0, 0, 0)X(1, 0, 1, 12). AIC= 478.3653805749645\n",
            "Model=(0, 0, 0)X(1, 1, 0, 12). AIC= 318.0047199116341\n",
            "maxlag should be < nobs\n",
            "Model=(0, 0, 1)X(0, 0, 0, 12). AIC= 720.9252270739973\n",
            "Model=(0, 0, 1)X(0, 0, 1, 12). AIC= 514.7587049639892\n",
            "Model=(0, 0, 1)X(0, 1, 0, 12). AIC= 466.5556513479083\n",
            "maxlag should be < nobs\n",
            "Model=(0, 0, 1)X(1, 0, 0, 12). AIC= 498.8314925544705\n",
            "Model=(0, 0, 1)X(1, 0, 1, 12). AIC= 467.1039211192387\n",
            "Model=(0, 0, 1)X(1, 1, 0, 12). AIC= 319.9884876946219\n",
            "maxlag should be < nobs\n",
            "Model=(0, 1, 0)X(0, 0, 0, 12). AIC= 677.894766859465\n",
            "Model=(0, 1, 0)X(0, 0, 1, 12). AIC= 488.7012043020711\n",
            "Model=(0, 1, 0)X(0, 1, 0, 12). AIC= 486.63785671879367\n",
            "maxlag should be < nobs\n",
            "Model=(0, 1, 0)X(1, 0, 0, 12). AIC= 497.78896630044073\n",
            "Model=(0, 1, 0)X(1, 0, 1, 12). AIC= 482.6001351199606\n",
            "Model=(0, 1, 0)X(1, 1, 0, 12). AIC= 319.7714068109211\n",
            "maxlag should be < nobs\n",
            "Model=(0, 1, 1)X(0, 0, 0, 12). AIC= 649.9056176746318\n",
            "Model=(0, 1, 1)X(0, 0, 1, 12). AIC= 463.70341352306565\n",
            "Model=(0, 1, 1)X(0, 1, 0, 12). AIC= 458.8768954885655\n",
            "maxlag should be < nobs\n",
            "Model=(0, 1, 1)X(1, 0, 0, 12). AIC= 486.1833987523838\n",
            "Model=(0, 1, 1)X(1, 0, 1, 12). AIC= 455.5706641530194\n",
            "Model=(0, 1, 1)X(1, 1, 0, 12). AIC= 308.9297301489636\n",
            "maxlag should be < nobs\n",
            "Model=(1, 0, 0)X(0, 0, 0, 12). AIC= 692.1645522067712\n",
            "Model=(1, 0, 0)X(0, 0, 1, 12). AIC= 503.41425767544223\n",
            "Model=(1, 0, 0)X(0, 1, 0, 12). AIC= 479.46321478521355\n",
            "maxlag should be < nobs\n",
            "Model=(1, 0, 0)X(1, 0, 0, 12). AIC= 480.9259367935196\n",
            "Model=(1, 0, 0)X(1, 0, 1, 12). AIC= 479.7837403490901\n",
            "Model=(1, 0, 0)X(1, 1, 0, 12). AIC= 304.46646750846014\n",
            "maxlag should be < nobs\n",
            "Model=(1, 0, 1)X(0, 0, 0, 12). AIC= 665.3584432676887\n",
            "Model=(1, 0, 1)X(0, 0, 1, 12). AIC= 478.7880509904927\n",
            "Model=(1, 0, 1)X(0, 1, 0, 12). AIC= 468.36848137363256\n",
            "maxlag should be < nobs\n",
            "Model=(1, 0, 1)X(1, 0, 0, 12). AIC= 482.57633251540955\n",
            "Model=(1, 0, 1)X(1, 0, 1, 12). AIC= 469.0676785348033\n",
            "Model=(1, 0, 1)X(1, 1, 0, 12). AIC= 306.01560028471613\n",
            "maxlag should be < nobs\n",
            "Model=(1, 1, 0)X(0, 0, 0, 12). AIC= 671.2513547541902\n",
            "Model=(1, 1, 0)X(0, 0, 1, 12). AIC= 482.55772248769205\n",
            "Model=(1, 1, 0)X(0, 1, 0, 12). AIC= 479.2003422281135\n",
            "maxlag should be < nobs\n",
            "Model=(1, 1, 0)X(1, 0, 0, 12). AIC= 475.3403658784892\n",
            "Model=(1, 1, 0)X(1, 0, 1, 12). AIC= 475.42185864333896\n",
            "Model=(1, 1, 0)X(1, 1, 0, 12). AIC= 300.6270901345398\n",
            "maxlag should be < nobs\n",
            "Model=(1, 1, 1)X(0, 0, 0, 12). AIC= 649.0319484571236\n",
            "Model=(1, 1, 1)X(0, 0, 1, 12). AIC= 464.48619151392836\n",
            "Model=(1, 1, 1)X(0, 1, 0, 12). AIC= 460.4764275959342\n",
            "maxlag should be < nobs\n",
            "Model=(1, 1, 1)X(1, 0, 0, 12). AIC= 469.52504246276555\n",
            "Model=(1, 1, 1)X(1, 0, 1, 12). AIC= 457.48748413858686\n",
            "Model=(1, 1, 1)X(1, 1, 0, 12). AIC= 298.6016749250111\n",
            "maxlag should be < nobs\n",
            "**** Smallest PDQ,SPDQ is *****\n",
            "298.6016749250111\n",
            "(1, 1, 1)\n",
            "(1, 1, 0, 12)\n"
          ]
        }
      ]
    },
    {
      "cell_type": "code",
      "metadata": {
        "id": "VDJGGsQ0Um3n",
        "outputId": "20474f3d-0290-4f29-c304-0e40a5fb9ef5",
        "colab": {
          "base_uri": "https://localhost:8080/",
          "height": 461
        }
      },
      "source": [
        "model = sm.tsa.statespace.SARIMAX(y, order=min_pdq, seasonal_order= min_spdq, enforce_stationarity=False)\n",
        "# (0, 1, 0)X(1, 0, 1, 12)\n",
        "model2 = sm.tsa.statespace.SARIMAX(y, order=(0, 1, 0), seasonal_order= (1, 0, 1, 12), enforce_stationarity=False)\n",
        "results = model.fit()\n",
        "results2 = model2.fit()\n",
        "# we've taken 2 models so that we can compare their predictions \n",
        "results.summary() #.tables[1]  # AIC => needs to be lowest \n",
        "# results.summary()\n"
      ],
      "execution_count": 21,
      "outputs": [
        {
          "output_type": "execute_result",
          "data": {
            "text/plain": [
              "<class 'statsmodels.iolib.summary.Summary'>\n",
              "\"\"\"\n",
              "                                 Statespace Model Results                                 \n",
              "==========================================================================================\n",
              "Dep. Variable:                              Sales   No. Observations:                   48\n",
              "Model:             SARIMAX(1, 1, 1)x(1, 1, 0, 12)   Log Likelihood                -145.301\n",
              "Date:                            Thu, 07 Apr 2022   AIC                            298.602\n",
              "Time:                                    11:59:11   BIC                            302.966\n",
              "Sample:                                01-01-2014   HQIC                           299.630\n",
              "                                     - 12-01-2017                                         \n",
              "Covariance Type:                              opg                                         \n",
              "==============================================================================\n",
              "                 coef    std err          z      P>|z|      [0.025      0.975]\n",
              "------------------------------------------------------------------------------\n",
              "ar.L1          0.1280      0.276      0.464      0.643      -0.412       0.669\n",
              "ma.L1         -0.9998      0.450     -2.223      0.026      -1.881      -0.118\n",
              "ar.S.L12      -0.2811      0.154     -1.826      0.068      -0.583       0.021\n",
              "sigma2      3.028e+04   1.49e-05   2.04e+09      0.000    3.03e+04    3.03e+04\n",
              "===================================================================================\n",
              "Ljung-Box (Q):                         nan   Jarque-Bera (JB):                 0.77\n",
              "Prob(Q):                               nan   Prob(JB):                         0.68\n",
              "Heteroskedasticity (H):               0.67   Skew:                            -0.22\n",
              "Prob(H) (two-sided):                  0.61   Kurtosis:                         2.19\n",
              "===================================================================================\n",
              "\n",
              "Warnings:\n",
              "[1] Covariance matrix calculated using the outer product of gradients (complex-step).\n",
              "[2] Covariance matrix is singular or near-singular, with condition number 6.69e+24. Standard errors may be unstable.\n",
              "\"\"\""
            ],
            "text/html": [
              "<table class=\"simpletable\">\n",
              "<caption>Statespace Model Results</caption>\n",
              "<tr>\n",
              "  <th>Dep. Variable:</th>                <td>Sales</td>             <th>  No. Observations:  </th>    <td>48</td>   \n",
              "</tr>\n",
              "<tr>\n",
              "  <th>Model:</th>           <td>SARIMAX(1, 1, 1)x(1, 1, 0, 12)</td> <th>  Log Likelihood     </th> <td>-145.301</td>\n",
              "</tr>\n",
              "<tr>\n",
              "  <th>Date:</th>                   <td>Thu, 07 Apr 2022</td>        <th>  AIC                </th>  <td>298.602</td>\n",
              "</tr>\n",
              "<tr>\n",
              "  <th>Time:</th>                       <td>11:59:11</td>            <th>  BIC                </th>  <td>302.966</td>\n",
              "</tr>\n",
              "<tr>\n",
              "  <th>Sample:</th>                    <td>01-01-2014</td>           <th>  HQIC               </th>  <td>299.630</td>\n",
              "</tr>\n",
              "<tr>\n",
              "  <th></th>                          <td>- 12-01-2017</td>          <th>                     </th>     <td> </td>   \n",
              "</tr>\n",
              "<tr>\n",
              "  <th>Covariance Type:</th>               <td>opg</td>              <th>                     </th>     <td> </td>   \n",
              "</tr>\n",
              "</table>\n",
              "<table class=\"simpletable\">\n",
              "<tr>\n",
              "      <td></td>        <th>coef</th>     <th>std err</th>      <th>z</th>      <th>P>|z|</th>  <th>[0.025</th>    <th>0.975]</th>  \n",
              "</tr>\n",
              "<tr>\n",
              "  <th>ar.L1</th>    <td>    0.1280</td> <td>    0.276</td> <td>    0.464</td> <td> 0.643</td> <td>   -0.412</td> <td>    0.669</td>\n",
              "</tr>\n",
              "<tr>\n",
              "  <th>ma.L1</th>    <td>   -0.9998</td> <td>    0.450</td> <td>   -2.223</td> <td> 0.026</td> <td>   -1.881</td> <td>   -0.118</td>\n",
              "</tr>\n",
              "<tr>\n",
              "  <th>ar.S.L12</th> <td>   -0.2811</td> <td>    0.154</td> <td>   -1.826</td> <td> 0.068</td> <td>   -0.583</td> <td>    0.021</td>\n",
              "</tr>\n",
              "<tr>\n",
              "  <th>sigma2</th>   <td> 3.028e+04</td> <td> 1.49e-05</td> <td> 2.04e+09</td> <td> 0.000</td> <td> 3.03e+04</td> <td> 3.03e+04</td>\n",
              "</tr>\n",
              "</table>\n",
              "<table class=\"simpletable\">\n",
              "<tr>\n",
              "  <th>Ljung-Box (Q):</th>           <td>nan</td> <th>  Jarque-Bera (JB):  </th> <td>0.77</td> \n",
              "</tr>\n",
              "<tr>\n",
              "  <th>Prob(Q):</th>                 <td>nan</td> <th>  Prob(JB):          </th> <td>0.68</td> \n",
              "</tr>\n",
              "<tr>\n",
              "  <th>Heteroskedasticity (H):</th> <td>0.67</td> <th>  Skew:              </th> <td>-0.22</td>\n",
              "</tr>\n",
              "<tr>\n",
              "  <th>Prob(H) (two-sided):</th>    <td>0.61</td> <th>  Kurtosis:          </th> <td>2.19</td> \n",
              "</tr>\n",
              "</table><br/><br/>Warnings:<br/>[1] Covariance matrix calculated using the outer product of gradients (complex-step).<br/>[2] Covariance matrix is singular or near-singular, with condition number 6.69e+24. Standard errors may be unstable."
            ]
          },
          "metadata": {},
          "execution_count": 21
        }
      ]
    },
    {
      "cell_type": "code",
      "metadata": {
        "id": "Nfs3uMnsW7w0",
        "outputId": "2087a312-ee1c-4370-cb6d-187f8239b188",
        "colab": {
          "base_uri": "https://localhost:8080/",
          "height": 291
        }
      },
      "source": [
        "# let's check the actual predictions and plot them \n",
        "\n",
        "pred = results.get_prediction(start=pd.to_datetime('2016-04-01'), dynamic=False)\n",
        "pred_ci = pred.conf_int()\n",
        "pred2 = results2.get_prediction(start=pd.to_datetime('2017-01-01'), dynamic=False)\n",
        "pred2_ci = pred2.conf_int()\n",
        "ax = y['2014':].plot(label='actual') # ACTUAL DATA PLOT\n",
        "pred.predicted_mean.plot(ax=ax, label='One-Step-Ahead Forecast')\n",
        "# there is always a tolerance or error kernel(region) surrounding the forecast\n",
        "# +- region within which mistakes are acceptable \n",
        "# THIS TOLERANCE REGION is also called CONFIDENCE INTERVAL \n",
        "ax.fill_between(pred_ci.index, pred_ci.iloc[:,0], pred_ci.iloc[:,1], color='k', alpha=0.2)\n",
        "# BASE LINE-> index, lower confidence limit, upper confidence limit\n",
        "ax.set_xlabel('Months')\n",
        "ax.set_ylabel('Algo 1 Forecast')\n",
        "plt.legend()\n",
        "plt.show() \n",
        "\n"
      ],
      "execution_count": 22,
      "outputs": [
        {
          "output_type": "display_data",
          "data": {
            "text/plain": [
              "<Figure size 432x288 with 1 Axes>"
            ],
            "image/png": "[encoded data removed]"
          },
          "metadata": {
            "needs_background": "light"
          }
        }
      ]
    },
    {
      "cell_type": "code",
      "source": [
        "y"
      ],
      "metadata": {
        "id": "1f_EdSL-7_d_",
        "colab": {
          "base_uri": "https://localhost:8080/"
        },
        "outputId": "9ac8cb89-85bd-4215-905b-20e39273d8d6"
      },
      "execution_count": 23,
      "outputs": [
        {
          "output_type": "execute_result",
          "data": {
            "text/plain": [
              "Order Date\n",
              "2014-01-01     480.194231\n",
              "2014-02-01     367.931600\n",
              "2014-03-01     857.291529\n",
              "2014-04-01     567.488357\n",
              "2014-05-01     432.049187\n",
              "2014-06-01     695.059242\n",
              "2014-07-01     601.169500\n",
              "2014-08-01     457.521656\n",
              "2014-09-01     992.353367\n",
              "2014-10-01     769.015437\n",
              "2014-11-01     980.221486\n",
              "2014-12-01    1532.298325\n",
              "2015-01-01     978.328467\n",
              "2015-02-01     522.395667\n",
              "2015-03-01     781.236437\n",
              "2015-04-01     805.822962\n",
              "2015-05-01     624.996700\n",
              "2015-06-01     428.565500\n",
              "2015-07-01     719.706316\n",
              "2015-08-01     602.412012\n",
              "2015-09-01    1382.790684\n",
              "2015-10-01     632.980184\n",
              "2015-11-01    1286.701354\n",
              "2015-12-01    1049.355418\n",
              "2016-01-01     508.182867\n",
              "2016-02-01     356.868273\n",
              "2016-03-01     609.575810\n",
              "2016-04-01     695.373158\n",
              "2016-05-01     687.265227\n",
              "2016-06-01     816.910750\n",
              "2016-07-01     768.736412\n",
              "2016-08-01     734.307782\n",
              "2016-09-01    1135.953371\n",
              "2016-10-01     624.872474\n",
              "2016-11-01    1271.345152\n",
              "2016-12-01    1410.719808\n",
              "2017-01-01     397.602133\n",
              "2017-02-01     528.179800\n",
              "2017-03-01     544.672240\n",
              "2017-04-01     453.297905\n",
              "2017-05-01     678.302328\n",
              "2017-06-01     826.460291\n",
              "2017-07-01     562.524857\n",
              "2017-08-01     857.881889\n",
              "2017-09-01    1209.508583\n",
              "2017-10-01     875.362728\n",
              "2017-11-01    1277.817759\n",
              "2017-12-01    1256.298672\n",
              "Freq: MS, Name: Sales, dtype: float64"
            ]
          },
          "metadata": {},
          "execution_count": 23
        }
      ]
    },
    {
      "cell_type": "code",
      "source": [
        "pred.predicted_mean"
      ],
      "metadata": {
        "id": "etaU-xyo7ufC",
        "colab": {
          "base_uri": "https://localhost:8080/"
        },
        "outputId": "432e943e-16d0-4ea8-d3b0-2c152d1b19e6"
      },
      "execution_count": 24,
      "outputs": [
        {
          "output_type": "execute_result",
          "data": {
            "text/plain": [
              "Order Date\n",
              "2016-04-01     567.152715\n",
              "2016-05-01     444.554612\n",
              "2016-06-01     439.072907\n",
              "2016-07-01     702.201164\n",
              "2016-08-01     556.369830\n",
              "2016-09-01    1299.350271\n",
              "2016-10-01     641.307925\n",
              "2016-11-01    1180.762725\n",
              "2016-12-01    1187.915335\n",
              "2017-01-01     680.279193\n",
              "2017-02-01     363.014963\n",
              "2017-03-01     675.598709\n",
              "2017-04-01     705.483431\n",
              "2017-05-01     613.405403\n",
              "2017-06-01     691.091194\n",
              "2017-07-01     759.559749\n",
              "2017-08-01     652.096670\n",
              "2017-09-01    1215.246847\n",
              "2017-10-01     616.776917\n",
              "2017-11-01    1307.832541\n",
              "2017-12-01    1308.570910\n",
              "Freq: MS, dtype: float64"
            ]
          },
          "metadata": {},
          "execution_count": 24
        }
      ]
    },
    {
      "cell_type": "code",
      "source": [
        "pred_ci"
      ],
      "metadata": {
        "id": "_lPPMYVE7i1R",
        "colab": {
          "base_uri": "https://localhost:8080/",
          "height": 739
        },
        "outputId": "534c8d95-5c46-4854-aa08-47d4d6ca4260"
      },
      "execution_count": 25,
      "outputs": [
        {
          "output_type": "execute_result",
          "data": {
            "text/plain": [
              "            lower Sales  upper Sales\n",
              "Order Date                          \n",
              "2016-04-01   184.592795   949.712635\n",
              "2016-05-01    70.144068   818.965156\n",
              "2016-06-01    70.133941   808.011873\n",
              "2016-07-01   337.190742  1067.211586\n",
              "2016-08-01   194.317446   918.422215\n",
              "2016-09-01   939.605720  1659.094821\n",
              "2016-10-01   283.414263   999.201588\n",
              "2016-11-01   824.386547  1537.138903\n",
              "2016-12-01   832.805912  1543.024759\n",
              "2017-01-01   326.243212  1034.315173\n",
              "2017-02-01     9.900238   716.129687\n",
              "2017-03-01   323.283284  1027.914135\n",
              "2017-04-01   353.868066  1057.098795\n",
              "2017-05-01   262.408266   964.402541\n",
              "2017-06-01   340.644010  1041.538379\n",
              "2017-07-01   409.604963  1109.514535\n",
              "2017-08-01   302.585314  1001.608026\n",
              "2017-09-01   866.136912  1564.356781\n",
              "2017-10-01   268.032097   965.521738\n",
              "2017-11-01   959.421239  1656.243842\n",
              "2017-12-01   960.465464  1656.676355"
            ],
            "text/html": [
              "\n",
              "  <div id=\"df-8125512a-8576-474e-94df-59fe0151f217\">\n",
              "    <div class=\"colab-df-container\">\n",
              "      <div>\n",
              "<style scoped>\n",
              "    .dataframe tbody tr th:only-of-type {\n",
              "        vertical-align: middle;\n",
              "    }\n",
              "\n",
              "    .dataframe tbody tr th {\n",
              "        vertical-align: top;\n",
              "    }\n",
              "\n",
              "    .dataframe thead th {\n",
              "        text-align: right;\n",
              "    }\n",
              "</style>\n",
              "<table border=\"1\" class=\"dataframe\">\n",
              "  <thead>\n",
              "    <tr style=\"text-align: right;\">\n",
              "      <th></th>\n",
              "      <th>lower Sales</th>\n",
              "      <th>upper Sales</th>\n",
              "    </tr>\n",
              "    <tr>\n",
              "      <th>Order Date</th>\n",
              "      <th></th>\n",
              "      <th></th>\n",
              "    </tr>\n",
              "  </thead>\n",
              "  <tbody>\n",
              "    <tr>\n",
              "      <th>2016-04-01</th>\n",
              "      <td>184.592795</td>\n",
              "      <td>949.712635</td>\n",
              "    </tr>\n",
              "    <tr>\n",
              "      <th>2016-05-01</th>\n",
              "      <td>70.144068</td>\n",
              "      <td>818.965156</td>\n",
              "    </tr>\n",
              "    <tr>\n",
              "      <th>2016-06-01</th>\n",
              "      <td>70.133941</td>\n",
              "      <td>808.011873</td>\n",
              "    </tr>\n",
              "    <tr>\n",
              "      <th>2016-07-01</th>\n",
              "      <td>337.190742</td>\n",
              "      <td>1067.211586</td>\n",
              "    </tr>\n",
              "    <tr>\n",
              "      <th>2016-08-01</th>\n",
              "      <td>194.317446</td>\n",
              "      <td>918.422215</td>\n",
              "    </tr>\n",
              "    <tr>\n",
              "      <th>2016-09-01</th>\n",
              "      <td>939.605720</td>\n",
              "      <td>1659.094821</td>\n",
              "    </tr>\n",
              "    <tr>\n",
              "      <th>2016-10-01</th>\n",
              "      <td>283.414263</td>\n",
              "      <td>999.201588</td>\n",
              "    </tr>\n",
              "    <tr>\n",
              "      <th>2016-11-01</th>\n",
              "      <td>824.386547</td>\n",
              "      <td>1537.138903</td>\n",
              "    </tr>\n",
              "    <tr>\n",
              "      <th>2016-12-01</th>\n",
              "      <td>832.805912</td>\n",
              "      <td>1543.024759</td>\n",
              "    </tr>\n",
              "    <tr>\n",
              "      <th>2017-01-01</th>\n",
              "      <td>326.243212</td>\n",
              "      <td>1034.315173</td>\n",
              "    </tr>\n",
              "    <tr>\n",
              "      <th>2017-02-01</th>\n",
              "      <td>9.900238</td>\n",
              "      <td>716.129687</td>\n",
              "    </tr>\n",
              "    <tr>\n",
              "      <th>2017-03-01</th>\n",
              "      <td>323.283284</td>\n",
              "      <td>1027.914135</td>\n",
              "    </tr>\n",
              "    <tr>\n",
              "      <th>2017-04-01</th>\n",
              "      <td>353.868066</td>\n",
              "      <td>1057.098795</td>\n",
              "    </tr>\n",
              "    <tr>\n",
              "      <th>2017-05-01</th>\n",
              "      <td>262.408266</td>\n",
              "      <td>964.402541</td>\n",
              "    </tr>\n",
              "    <tr>\n",
              "      <th>2017-06-01</th>\n",
              "      <td>340.644010</td>\n",
              "      <td>1041.538379</td>\n",
              "    </tr>\n",
              "    <tr>\n",
              "      <th>2017-07-01</th>\n",
              "      <td>409.604963</td>\n",
              "      <td>1109.514535</td>\n",
              "    </tr>\n",
              "    <tr>\n",
              "      <th>2017-08-01</th>\n",
              "      <td>302.585314</td>\n",
              "      <td>1001.608026</td>\n",
              "    </tr>\n",
              "    <tr>\n",
              "      <th>2017-09-01</th>\n",
              "      <td>866.136912</td>\n",
              "      <td>1564.356781</td>\n",
              "    </tr>\n",
              "    <tr>\n",
              "      <th>2017-10-01</th>\n",
              "      <td>268.032097</td>\n",
              "      <td>965.521738</td>\n",
              "    </tr>\n",
              "    <tr>\n",
              "      <th>2017-11-01</th>\n",
              "      <td>959.421239</td>\n",
              "      <td>1656.243842</td>\n",
              "    </tr>\n",
              "    <tr>\n",
              "      <th>2017-12-01</th>\n",
              "      <td>960.465464</td>\n",
              "      <td>1656.676355</td>\n",
              "    </tr>\n",
              "  </tbody>\n",
              "</table>\n",
              "</div>\n",
              "      <button class=\"colab-df-convert\" onclick=\"convertToInteractive('df-8125512a-8576-474e-94df-59fe0151f217')\"\n",
              "              title=\"Convert this dataframe to an interactive table.\"\n",
              "              style=\"display:none;\">\n",
              "        \n",
              "  <svg xmlns=\"http://www.w3.org/2000/svg\" height=\"24px\"viewBox=\"0 0 24 24\"\n",
              "       width=\"24px\">\n",
              "    <path d=\"M0 0h24v24H0V0z\" fill=\"none\"/>\n",
              "    <path d=\"M18.56 5.44l.94 2.06.94-2.06 2.06-.94-2.06-.94-.94-2.06-.94 2.06-2.06.94zm-11 1L8.5 8.5l.94-2.06 2.06-.94-2.06-.94L8.5 2.5l-.94 2.06-2.06.94zm10 10l.94 2.06.94-2.06 2.06-.94-2.06-.94-.94-2.06-.94 2.06-2.06.94z\"/><path d=\"M17.41 7.96l-1.37-1.37c-.4-.4-.92-.59-1.43-.59-.52 0-1.04.2-1.43.59L10.3 9.45l-7.72 7.72c-.78.78-.78 2.05 0 2.83L4 21.41c.39.39.9.59 1.41.59.51 0 1.02-.2 1.41-.59l7.78-7.78 2.81-2.81c.8-.78.8-2.07 0-2.86zM5.41 20L4 18.59l7.72-7.72 1.47 1.35L5.41 20z\"/>\n",
              "  </svg>\n",
              "      </button>\n",
              "      \n",
              "  <style>\n",
              "    .colab-df-container {\n",
              "      display:flex;\n",
              "      flex-wrap:wrap;\n",
              "      gap: 12px;\n",
              "    }\n",
              "\n",
              "    .colab-df-convert {\n",
              "      background-color: #E8F0FE;\n",
              "      border: none;\n",
              "      border-radius: 50%;\n",
              "      cursor: pointer;\n",
              "      display: none;\n",
              "      fill: #1967D2;\n",
              "      height: 32px;\n",
              "      padding: 0 0 0 0;\n",
              "      width: 32px;\n",
              "    }\n",
              "\n",
              "    .colab-df-convert:hover {\n",
              "      background-color: #E2EBFA;\n",
              "      box-shadow: 0px 1px 2px rgba(60, 64, 67, 0.3), 0px 1px 3px 1px rgba(60, 64, 67, 0.15);\n",
              "      fill: #174EA6;\n",
              "    }\n",
              "\n",
              "    [theme=dark] .colab-df-convert {\n",
              "      background-color: #3B4455;\n",
              "      fill: #D2E3FC;\n",
              "    }\n",
              "\n",
              "    [theme=dark] .colab-df-convert:hover {\n",
              "      background-color: #434B5C;\n",
              "      box-shadow: 0px 1px 3px 1px rgba(0, 0, 0, 0.15);\n",
              "      filter: drop-shadow(0px 1px 2px rgba(0, 0, 0, 0.3));\n",
              "      fill: #FFFFFF;\n",
              "    }\n",
              "  </style>\n",
              "\n",
              "      <script>\n",
              "        const buttonEl =\n",
              "          document.querySelector('#df-8125512a-8576-474e-94df-59fe0151f217 button.colab-df-convert');\n",
              "        buttonEl.style.display =\n",
              "          google.colab.kernel.accessAllowed ? 'block' : 'none';\n",
              "\n",
              "        async function convertToInteractive(key) {\n",
              "          const element = document.querySelector('#df-8125512a-8576-474e-94df-59fe0151f217');\n",
              "          const dataTable =\n",
              "            await google.colab.kernel.invokeFunction('convertToInteractive',\n",
              "                                                     [key], {});\n",
              "          if (!dataTable) return;\n",
              "\n",
              "          const docLinkHtml = 'Like what you see? Visit the ' +\n",
              "            '<a target=\"_blank\" href=https://colab.research.google.com/notebooks/data_table.ipynb>data table notebook</a>'\n",
              "            + ' to learn more about interactive tables.';\n",
              "          element.innerHTML = '';\n",
              "          dataTable['output_type'] = 'display_data';\n",
              "          await google.colab.output.renderOutput(dataTable, element);\n",
              "          const docLink = document.createElement('div');\n",
              "          docLink.innerHTML = docLinkHtml;\n",
              "          element.appendChild(docLink);\n",
              "        }\n",
              "      </script>\n",
              "    </div>\n",
              "  </div>\n",
              "  "
            ]
          },
          "metadata": {},
          "execution_count": 25
        }
      ]
    },
    {
      "cell_type": "code",
      "metadata": {
        "id": "aakckcx3ZQVW",
        "outputId": "64180abc-9110-4f06-e996-720e55828c9c",
        "colab": {
          "base_uri": "https://localhost:8080/",
          "height": 291
        }
      },
      "source": [
        "plt.figure()\n",
        "bx = y['2014':].plot(label='actual') # ACTUAL DATA PLOT\n",
        "pred2.predicted_mean.plot(ax=bx, label='One-Step-Ahead Forecast')\n",
        "# there is always a tolerance or error kernel(region) surrounding the forecast\n",
        "# +- region within which mistakes are acceptable \n",
        "# THIS TOLERANCE REGION is also called CONFIDENCE INTERVAL \n",
        "bx.fill_between(pred2_ci.index, pred2_ci.iloc[:,0], pred2_ci.iloc[:,1], color='k', alpha=0.2)\n",
        "# BASE LINE-> index, lower confidence limit, upper confidence limit\n",
        "bx.set_xlabel('Months')\n",
        "bx.set_ylabel('Algo 2 Forecast')\n",
        "plt.legend()\n",
        "plt.show() "
      ],
      "execution_count": 26,
      "outputs": [
        {
          "output_type": "display_data",
          "data": {
            "text/plain": [
              "<Figure size 432x288 with 1 Axes>"
            ],
            "image/png": "[encoded data removed]"
          },
          "metadata": {
            "needs_background": "light"
          }
        }
      ]
    },
    {
      "cell_type": "markdown",
      "source": [
        "### p: AR. The number of lag observations included in the model also called the lag order.\n",
        "### d: I. The number of times that the raw observations are differenced, also called the degree of difference.\n",
        "### q: MA. The size of the moving average window is also called the order of moving average.\n",
        "### ARIMA(p, q, d) is a linear regression model on previous p values and previous q errors post differencing d times\n",
        "### The “s” in SARIMA stands for seasonal.so,the ARIMA model is either seasonal, in which case it is a SARIMA model, or non-seasonal, in which case it is an ARIMA model.\n",
        "### it can be any period of time in which the data seems to be repetitive"
      ],
      "metadata": {
        "id": "_fwlTI644fvo"
      }
    },
    {
      "cell_type": "code",
      "metadata": {
        "id": "ULzlwargrV3U"
      },
      "source": [
        "# When we are building truth tables, while calculating loss on it, \n",
        "# we can end up with div by 0 situations and other exceptions also\n",
        "\n",
        "# DERIVATES and PARTIAL DERIVATIVES \n",
        "# https://www.mathsisfun.com/calculus/derivatives-introduction.html \n",
        "# https://www.mathsisfun.com/calculus/derivatives-partial.html \n",
        "\n"
      ],
      "execution_count": 27,
      "outputs": []
    }
  ]
}