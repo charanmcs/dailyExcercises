{
  "nbformat": 4,
  "nbformat_minor": 0,
  "metadata": {
    "colab": {
      "name": "05_04_2022_Ex2.ipynb",
      "provenance": [],
      "authorship_tag": "ABX9TyOioU5/8Q0dpw8A6J/PMQKa",
      "include_colab_link": true
    },
    "kernelspec": {
      "name": "python3",
      "display_name": "Python 3"
    },
    "language_info": {
      "name": "python"
    }
  },
  "cells": [
    {
      "cell_type": "markdown",
      "metadata": {
        "id": "view-in-github",
        "colab_type": "text"
      },
      "source": [
        "<a href=\"https://colab.research.google.com/github/charanmcs/dailyExcercises/blob/main/05_04_2022_Ex2.ipynb\" target=\"_parent\"><img src=\"https://colab.research.google.com/assets/colab-badge.svg\" alt=\"Open In Colab\"/></a>"
      ]
    },
    {
      "cell_type": "code",
      "execution_count": 2,
      "metadata": {
        "colab": {
          "base_uri": "https://localhost:8080/"
        },
        "id": "BwqUsAFmymBJ",
        "outputId": "c216df62-27d2-4556-fb6e-6aee68504440"
      },
      "outputs": [
        {
          "output_type": "stream",
          "name": "stdout",
          "text": [
            "0\n",
            "01\n",
            "02\n",
            "03\n",
            "04\n",
            "05\n",
            "06\n",
            "07\n",
            "08\n",
            "09\n",
            "0A\n",
            "0B\n",
            "0C\n",
            "0D\n",
            "0E\n",
            "0F\n",
            "010\n",
            "011\n",
            "012\n",
            "013\n",
            "014\n",
            "015\n",
            "016\n",
            "017\n",
            "018\n",
            "019\n",
            "01A\n",
            "01B\n",
            "01C\n",
            "01D\n",
            "01E\n",
            "01F\n",
            "020\n",
            "021\n",
            "022\n",
            "023\n",
            "024\n",
            "025\n",
            "026\n",
            "027\n",
            "028\n",
            "029\n",
            "02A\n",
            "02B\n",
            "02C\n",
            "02D\n",
            "02E\n",
            "02F\n",
            "030\n",
            "031\n"
          ]
        }
      ],
      "source": [
        "#%%writefile -a baseN.py\n",
        "def fun(n):\n",
        "  global b\n",
        "  if(b<2 or b>=17):\n",
        "    raise Exception(\"Base can't be less than 2 and more than 16\")\n",
        "    return\n",
        "  if(n==0):\n",
        "    return '0'\n",
        "  try:\n",
        "    s=n%b\n",
        "    if(s>9):\n",
        "      s=chr(ord('A')+s-10)\n",
        "    return fun(n//b)+str(s)\n",
        "  except:\n",
        "    raise Exception(\"Error occured\")\n",
        "if __name__=='__main__':\n",
        "  b=16\n",
        "  for i in range(50):\n",
        "    print(fun(i))"
      ]
    },
    {
      "cell_type": "code",
      "source": [
        ""
      ],
      "metadata": {
        "id": "TGBIKq-85QNo"
      },
      "execution_count": null,
      "outputs": []
    }
  ]
}