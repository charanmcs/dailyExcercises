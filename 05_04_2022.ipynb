{
  "nbformat": 4,
  "nbformat_minor": 0,
  "metadata": {
    "colab": {
      "name": "05_04_2022.ipynb",
      "provenance": [],
      "authorship_tag": "ABX9TyP7ww55aMHmVaS/gowmvxak"
    },
    "kernelspec": {
      "name": "python3",
      "display_name": "Python 3"
    },
    "language_info": {
      "name": "python"
    }
  },
  "cells": [
    {
      "cell_type": "code",
      "source": [
        "%%writefile -a truthtable.py\n",
        "n=5\n",
        "def fun(p,b):\n",
        "  global n\n",
        "  if(p==n):\n",
        "    print(b)\n",
        "    return\n",
        "  fun(p+1,b+'0')\n",
        "  fun(p+1,b+'1')\n",
        "fun(0,\"\")"
      ],
      "metadata": {
        "colab": {
          "base_uri": "https://localhost:8080/"
        },
        "id": "ffElHUzQptDy",
        "outputId": "bb8ca4e5-934c-4b09-c1c6-f6d1df0ad462"
      },
      "execution_count": 32,
      "outputs": [
        {
          "output_type": "stream",
          "name": "stdout",
          "text": [
            "Writing truthtable.py\n"
          ]
        }
      ]
    }
  ]
}